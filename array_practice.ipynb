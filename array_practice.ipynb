{
 "cells": [
  {
   "cell_type": "code",
   "execution_count": 3,
   "id": "8db5a942",
   "metadata": {},
   "outputs": [],
   "source": [
    "import array\n",
    "from array import*"
   ]
  },
  {
   "cell_type": "code",
   "execution_count": 4,
   "id": "6e096520",
   "metadata": {},
   "outputs": [
    {
     "name": "stdout",
     "output_type": "stream",
     "text": [
      "10\n",
      "80\n"
     ]
    }
   ],
   "source": [
    "array1=array('i',[10,20,40,50,80])\n",
    "print(array1[0])\n",
    "print(array1[4])"
   ]
  },
  {
   "cell_type": "code",
   "execution_count": 40,
   "id": "0b08fc28",
   "metadata": {},
   "outputs": [],
   "source": [
    "array1.insert(3,100)\n",
    "array1[2]=25\n",
    "array1.remove(100)"
   ]
  },
  {
   "cell_type": "code",
   "execution_count": 41,
   "id": "dcecad40",
   "metadata": {},
   "outputs": [
    {
     "name": "stdout",
     "output_type": "stream",
     "text": [
      "10\n",
      "20\n",
      "25\n",
      "100\n",
      "100\n",
      "100\n",
      "100\n",
      "100\n",
      "50\n",
      "80\n"
     ]
    }
   ],
   "source": [
    "for x in array1:\n",
    "    print(x)"
   ]
  },
  {
   "cell_type": "code",
   "execution_count": 11,
   "id": "dd68ad4e",
   "metadata": {},
   "outputs": [
    {
     "name": "stdout",
     "output_type": "stream",
     "text": [
      "b\n"
     ]
    }
   ],
   "source": [
    "array2=array('u',['b','g','h','e','d'])\n",
    "print(array2[0])"
   ]
  },
  {
   "cell_type": "code",
   "execution_count": 26,
   "id": "6bdea67c",
   "metadata": {},
   "outputs": [
    {
     "name": "stdout",
     "output_type": "stream",
     "text": [
      "g\n",
      "h\n",
      "d\n"
     ]
    }
   ],
   "source": [
    "array2.remove('b')\n",
    "for x in array2:\n",
    "    print(x)"
   ]
  },
  {
   "cell_type": "code",
   "execution_count": 28,
   "id": "c7524805",
   "metadata": {},
   "outputs": [
    {
     "name": "stdout",
     "output_type": "stream",
     "text": [
      "2\n"
     ]
    }
   ],
   "source": [
    "print (array2.index('d'))"
   ]
  },
  {
   "cell_type": "code",
   "execution_count": 29,
   "id": "f44af726",
   "metadata": {},
   "outputs": [
    {
     "name": "stdout",
     "output_type": "stream",
     "text": [
      "2\n"
     ]
    }
   ],
   "source": [
    "print(array1.index(40))"
   ]
  },
  {
   "cell_type": "code",
   "execution_count": null,
   "id": "362997b4",
   "metadata": {},
   "outputs": [],
   "source": []
  }
 ],
 "metadata": {
  "kernelspec": {
   "display_name": "Python 3 (ipykernel)",
   "language": "python",
   "name": "python3"
  },
  "language_info": {
   "codemirror_mode": {
    "name": "ipython",
    "version": 3
   },
   "file_extension": ".py",
   "mimetype": "text/x-python",
   "name": "python",
   "nbconvert_exporter": "python",
   "pygments_lexer": "ipython3",
   "version": "3.11.4"
  }
 },
 "nbformat": 4,
 "nbformat_minor": 5
}
