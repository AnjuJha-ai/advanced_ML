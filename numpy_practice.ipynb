{
 "cells": [
  {
   "cell_type": "code",
   "execution_count": 1,
   "id": "33189720",
   "metadata": {},
   "outputs": [],
   "source": [
    "import numpy as np"
   ]
  },
  {
   "cell_type": "code",
   "execution_count": 2,
   "id": "9a48c477",
   "metadata": {},
   "outputs": [],
   "source": [
    "a=np.random.random((2,2))"
   ]
  },
  {
   "cell_type": "code",
   "execution_count": 3,
   "id": "0506d011",
   "metadata": {},
   "outputs": [
    {
     "name": "stdout",
     "output_type": "stream",
     "text": [
      "[[0.83368465 0.745074  ]\n",
      " [0.34532316 0.59175711]]\n"
     ]
    }
   ],
   "source": [
    "print(a)"
   ]
  },
  {
   "cell_type": "code",
   "execution_count": 4,
   "id": "bc53bc5a",
   "metadata": {},
   "outputs": [
    {
     "name": "stdout",
     "output_type": "stream",
     "text": [
      "[ 0  5 10 15]\n"
     ]
    }
   ],
   "source": [
    "print(np.arange(0,20,5))"
   ]
  },
  {
   "cell_type": "code",
   "execution_count": 5,
   "id": "04073594",
   "metadata": {},
   "outputs": [
    {
     "name": "stdout",
     "output_type": "stream",
     "text": [
      "[ 1.  2.  3.  4.  5.  6.  7.  8.  9. 10.]\n"
     ]
    }
   ],
   "source": [
    "print(np.linspace(1,10,10))"
   ]
  },
  {
   "cell_type": "code",
   "execution_count": 6,
   "id": "a1efbcfd",
   "metadata": {},
   "outputs": [],
   "source": [
    "a=np.random.random((3,4))"
   ]
  },
  {
   "cell_type": "code",
   "execution_count": 7,
   "id": "56951685",
   "metadata": {},
   "outputs": [
    {
     "name": "stdout",
     "output_type": "stream",
     "text": [
      "[[0.58248288 0.28733817 0.64403927 0.81929765]\n",
      " [0.64794302 0.41271813 0.05087733 0.80455015]\n",
      " [0.27210048 0.47389562 0.52052741 0.31166689]]\n"
     ]
    }
   ],
   "source": [
    "print(a)"
   ]
  },
  {
   "cell_type": "code",
   "execution_count": 8,
   "id": "e8082963",
   "metadata": {},
   "outputs": [],
   "source": [
    "b=a.reshape(3,2,2)"
   ]
  },
  {
   "cell_type": "code",
   "execution_count": 9,
   "id": "5429f5f1",
   "metadata": {},
   "outputs": [
    {
     "name": "stdout",
     "output_type": "stream",
     "text": [
      "[[[0.58248288 0.28733817]\n",
      "  [0.64403927 0.81929765]]\n",
      "\n",
      " [[0.64794302 0.41271813]\n",
      "  [0.05087733 0.80455015]]\n",
      "\n",
      " [[0.27210048 0.47389562]\n",
      "  [0.52052741 0.31166689]]]\n"
     ]
    }
   ],
   "source": [
    "print(b)"
   ]
  },
  {
   "cell_type": "code",
   "execution_count": 10,
   "id": "86c3b6e9",
   "metadata": {},
   "outputs": [
    {
     "name": "stdout",
     "output_type": "stream",
     "text": [
      "[[[0.58248288 0.28733817 0.64403927 0.81929765 0.64794302 0.41271813\n",
      "   0.05087733 0.80455015 0.27210048 0.47389562 0.52052741 0.31166689]]]\n"
     ]
    }
   ],
   "source": [
    "print(b.reshape(1,1,12))"
   ]
  },
  {
   "cell_type": "code",
   "execution_count": 11,
   "id": "69b046b7",
   "metadata": {},
   "outputs": [
    {
     "name": "stdout",
     "output_type": "stream",
     "text": [
      "[[0.58248288 0.81929765]\n",
      " [0.64794302 0.80455015]]\n"
     ]
    }
   ],
   "source": [
    "#slicing array\n",
    "print(a[:2,::3])"
   ]
  },
  {
   "cell_type": "code",
   "execution_count": 12,
   "id": "9950512a",
   "metadata": {},
   "outputs": [],
   "source": [
    "temp = a[[0, 1, 2], [3, 2, 1]] "
   ]
  },
  {
   "cell_type": "code",
   "execution_count": 13,
   "id": "4687ed16",
   "metadata": {},
   "outputs": [
    {
     "name": "stdout",
     "output_type": "stream",
     "text": [
      "[0.81929765 0.05087733 0.47389562]\n"
     ]
    }
   ],
   "source": [
    "print(temp)"
   ]
  },
  {
   "cell_type": "code",
   "execution_count": 14,
   "id": "ffa9a9d2",
   "metadata": {},
   "outputs": [
    {
     "name": "stdout",
     "output_type": "stream",
     "text": [
      "[[0.58248288 0.28733817 0.64403927 0.81929765]\n",
      " [0.64794302 0.41271813 0.05087733 0.80455015]\n",
      " [0.27210048 0.47389562 0.52052741 0.31166689]]\n"
     ]
    }
   ],
   "source": [
    "print(a)"
   ]
  },
  {
   "cell_type": "code",
   "execution_count": 15,
   "id": "9f6d71eb",
   "metadata": {},
   "outputs": [
    {
     "name": "stdout",
     "output_type": "stream",
     "text": [
      "[[0.58248288 0.64794302 0.27210048]\n",
      " [0.28733817 0.41271813 0.47389562]\n",
      " [0.64403927 0.05087733 0.52052741]\n",
      " [0.81929765 0.80455015 0.31166689]]\n"
     ]
    }
   ],
   "source": [
    "print(a.T)"
   ]
  },
  {
   "cell_type": "code",
   "execution_count": 16,
   "id": "f4f7bf0d",
   "metadata": {},
   "outputs": [
    {
     "name": "stdout",
     "output_type": "stream",
     "text": [
      "0.8192976469682651\n"
     ]
    }
   ],
   "source": [
    "print(a.max())"
   ]
  },
  {
   "cell_type": "code",
   "execution_count": 17,
   "id": "c625c92b",
   "metadata": {},
   "outputs": [
    {
     "name": "stdout",
     "output_type": "stream",
     "text": [
      "[0.81929765 0.80455015 0.52052741]\n"
     ]
    }
   ],
   "source": [
    "print(a.max(axis=1))"
   ]
  },
  {
   "cell_type": "code",
   "execution_count": 18,
   "id": "864075e0",
   "metadata": {},
   "outputs": [
    {
     "name": "stdout",
     "output_type": "stream",
     "text": [
      "[0.64794302 0.47389562 0.64403927 0.81929765]\n"
     ]
    }
   ],
   "source": [
    "print(a.max(axis=0))"
   ]
  },
  {
   "cell_type": "code",
   "execution_count": 19,
   "id": "d2378ee8",
   "metadata": {},
   "outputs": [
    {
     "name": "stdout",
     "output_type": "stream",
     "text": [
      "[[0.58248288 0.28733817 0.64403927 0.81929765]\n",
      " [0.64794302 0.41271813 0.05087733 0.80455015]\n",
      " [0.27210048 0.47389562 0.52052741 0.31166689]]\n"
     ]
    }
   ],
   "source": [
    "print(a)"
   ]
  },
  {
   "cell_type": "code",
   "execution_count": 20,
   "id": "813a94c3",
   "metadata": {},
   "outputs": [
    {
     "name": "stdout",
     "output_type": "stream",
     "text": [
      "5.827437006740975\n"
     ]
    }
   ],
   "source": [
    "print(a.sum())"
   ]
  },
  {
   "cell_type": "code",
   "execution_count": 21,
   "id": "c1a9473b",
   "metadata": {},
   "outputs": [
    {
     "name": "stdout",
     "output_type": "stream",
     "text": [
      "[[0.58248288 0.86982105 1.51386033 2.33315797]\n",
      " [0.64794302 1.06066115 1.11153849 1.91608864]\n",
      " [0.27210048 0.7459961  1.2665235  1.57819039]]\n"
     ]
    }
   ],
   "source": [
    "print(a.cumsum(axis=1))"
   ]
  },
  {
   "cell_type": "code",
   "execution_count": 22,
   "id": "1f31b259",
   "metadata": {},
   "outputs": [
    {
     "name": "stdout",
     "output_type": "stream",
     "text": [
      "[[3 6]\n",
      " [6 6]]\n"
     ]
    }
   ],
   "source": [
    "a=np.array([[1,2],[3,4]])\n",
    "b=np.array([[2,4],[3,2]])\n",
    "print(a+b)"
   ]
  },
  {
   "cell_type": "code",
   "execution_count": 23,
   "id": "1e02e969",
   "metadata": {},
   "outputs": [
    {
     "name": "stdout",
     "output_type": "stream",
     "text": [
      "[[2 8]\n",
      " [9 8]]\n"
     ]
    }
   ],
   "source": [
    "print(a*b)"
   ]
  },
  {
   "cell_type": "code",
   "execution_count": 24,
   "id": "482adb07",
   "metadata": {},
   "outputs": [
    {
     "name": "stdout",
     "output_type": "stream",
     "text": [
      "[[ 8  8]\n",
      " [18 20]]\n"
     ]
    }
   ],
   "source": [
    "print(a.dot(b))"
   ]
  },
  {
   "cell_type": "code",
   "execution_count": 25,
   "id": "61c3d401",
   "metadata": {},
   "outputs": [],
   "source": [
    "a = np.array([0, np.pi/2, np.pi])"
   ]
  },
  {
   "cell_type": "code",
   "execution_count": 26,
   "id": "f4610d9d",
   "metadata": {},
   "outputs": [
    {
     "name": "stdout",
     "output_type": "stream",
     "text": [
      "[0.0000000e+00 1.0000000e+00 1.2246468e-16]\n"
     ]
    }
   ],
   "source": [
    "print(np.sin(a))"
   ]
  },
  {
   "cell_type": "code",
   "execution_count": 27,
   "id": "a054a6c5",
   "metadata": {},
   "outputs": [],
   "source": [
    "import pandas as pd"
   ]
  },
  {
   "cell_type": "code",
   "execution_count": 28,
   "id": "a9fc331b",
   "metadata": {},
   "outputs": [
    {
     "name": "stdout",
     "output_type": "stream",
     "text": [
      "Series([], dtype: float64)\n",
      "0       1\n",
      "1       2\n",
      "2       3\n",
      "3    data\n",
      "4    blue\n",
      "dtype: object\n"
     ]
    },
    {
     "name": "stderr",
     "output_type": "stream",
     "text": [
      "C:\\Users\\22anj\\AppData\\Local\\Temp\\ipykernel_7076\\2274024371.py:1: FutureWarning: The default dtype for empty Series will be 'object' instead of 'float64' in a future version. Specify a dtype explicitly to silence this warning.\n",
      "  S=pd.Series()\n"
     ]
    }
   ],
   "source": [
    "S=pd.Series()\n",
    "print(S)\n",
    "new=np.array([1,2,3,'data','blue'])\n",
    "S=pd.Series(new)\n",
    "print(S)"
   ]
  },
  {
   "cell_type": "code",
   "execution_count": 29,
   "id": "70074ddc",
   "metadata": {},
   "outputs": [
    {
     "name": "stdout",
     "output_type": "stream",
     "text": [
      "    X   Y\n",
      "0   2   4\n",
      "1   4   8\n",
      "2   6  10\n",
      "3   8  12\n",
      "4  10  15\n"
     ]
    }
   ],
   "source": [
    "New={'X':[2,4,6,8,10],'Y':[4,8,10,12,15]}\n",
    "df=pd.DataFrame(New)\n",
    "print(df)"
   ]
  },
  {
   "cell_type": "code",
   "execution_count": null,
   "id": "aee97ec7",
   "metadata": {},
   "outputs": [],
   "source": []
  },
  {
   "cell_type": "code",
   "execution_count": 31,
   "id": "782aa1ce",
   "metadata": {},
   "outputs": [],
   "source": [
    "from sklearn import datasets"
   ]
  },
  {
   "cell_type": "code",
   "execution_count": null,
   "id": "a12bc143",
   "metadata": {},
   "outputs": [],
   "source": []
  }
 ],
 "metadata": {
  "kernelspec": {
   "display_name": "Python 3 (ipykernel)",
   "language": "python",
   "name": "python3"
  },
  "language_info": {
   "codemirror_mode": {
    "name": "ipython",
    "version": 3
   },
   "file_extension": ".py",
   "mimetype": "text/x-python",
   "name": "python",
   "nbconvert_exporter": "python",
   "pygments_lexer": "ipython3",
   "version": "3.11.4"
  }
 },
 "nbformat": 4,
 "nbformat_minor": 5
}
