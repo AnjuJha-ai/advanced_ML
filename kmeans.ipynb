{
 "cells": [
  {
   "cell_type": "code",
   "execution_count": 1,
   "id": "8e52fb44",
   "metadata": {},
   "outputs": [],
   "source": [
    "import numpy as np\n",
    "import math as m\n",
    "from scipy.spatial.distance import cdist"
   ]
  },
  {
   "cell_type": "code",
   "execution_count": 28,
   "id": "4d6b4fff",
   "metadata": {},
   "outputs": [
    {
     "name": "stdout",
     "output_type": "stream",
     "text": [
      "X is: [1 2 3 4 5 4 3 2 1]\n",
      "Index: [5 1 3 4]\n",
      "Centroids: [4 2 4 5]\n",
      "Distance: [3 1 3 4]\n",
      "Points: [0 0 0 0]\n"
     ]
    }
   ],
   "source": [
    "x = np.array([1,2,3,4,5,4,3,2,1])\n",
    "print(\"X is:\",x)\n",
    "def kmeans(x, k, no_of_iterations):\n",
    "    idx = np.random.choice(len(x),k, replace = False)\n",
    "    print(\"Index:\",idx)\n",
    "    \n",
    "    centroids = x[idx]\n",
    "    print(\"Centroids:\",centroids)\n",
    "    \n",
    "    distances = abs(x[8] - centroids)\n",
    "    print(\"Distance:\",distances)\n",
    "    \n",
    "    points = np.array([np.argmin(i) for i in distances])\n",
    "    print(\"Points:\",points)\n",
    "    \n",
    "    for\n",
    "kmeans(x,4,10)"
   ]
  },
  {
   "cell_type": "code",
   "execution_count": null,
   "id": "fa1f0f52",
   "metadata": {},
   "outputs": [],
   "source": []
  },
  {
   "cell_type": "code",
   "execution_count": null,
   "id": "013d9bae",
   "metadata": {},
   "outputs": [],
   "source": []
  }
 ],
 "metadata": {
  "kernelspec": {
   "display_name": "Python 3 (ipykernel)",
   "language": "python",
   "name": "python3"
  },
  "language_info": {
   "codemirror_mode": {
    "name": "ipython",
    "version": 3
   },
   "file_extension": ".py",
   "mimetype": "text/x-python",
   "name": "python",
   "nbconvert_exporter": "python",
   "pygments_lexer": "ipython3",
   "version": "3.11.4"
  }
 },
 "nbformat": 4,
 "nbformat_minor": 5
}
