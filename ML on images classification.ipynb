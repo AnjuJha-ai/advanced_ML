{
 "cells": [
  {
   "cell_type": "code",
   "execution_count": 1,
   "id": "7b73ea63",
   "metadata": {},
   "outputs": [
    {
     "name": "stderr",
     "output_type": "stream",
     "text": [
      "C:\\Users\\22anj\\anaconda3\\Lib\\site-packages\\paramiko\\transport.py:219: CryptographyDeprecationWarning: Blowfish has been deprecated\n",
      "  \"class\": algorithms.Blowfish,\n"
     ]
    }
   ],
   "source": [
    "import pandas as pd\n",
    "import numpy as np\n",
    "from skimage.transform import resize\n",
    "from skimage.io import imread\n",
    "import matplotlib.pyplot as plt\n",
    "from sklearn import svm\n",
    "from sklearn.model_selection import GridSearchCV,train_test_split\n",
    "from sklearn.metrics import confusion_matrix,classification_report,accuracy_score\n"
   ]
  },
  {
   "cell_type": "code",
   "execution_count": null,
   "id": "1bfd0a5b",
   "metadata": {},
   "outputs": [],
   "source": [
    "categories=['cat','dog']\n",
    "flat_data=[]\n",
    "target_data=[]\n",
    "datadir=r\"C:\\Users\\rcc\\Desktop\\images\\dataset\"\n",
    "for i in categories:\n",
    "    print(f'loading..data:{i}')\n",
    "    j=0\n",
    "    path=os.path.join(datadir,i)\n",
    "    for img in os.listdir(path):\n",
    "        try:\n",
    "            j+=1\n",
    "            if j==200:\n",
    "                break\n",
    "            img_array=imread(os.path.join(path,img))\n",
    "            img_resize=resize(img_array,(150,150,3))\n",
    "            flat_data.append(img_resize.flatten())\n",
    "            target_data.append(categories.index(i))\n",
    "        except:\n",
    "            pass\n",
    "        print(f'loaded category:{i} successful')\n",
    "flat_data=np.array(flat_data)\n",
    "target=np.array(target_data)\n",
    "\n",
    "            "
   ]
  },
  {
   "cell_type": "code",
   "execution_count": null,
   "id": "7692b946",
   "metadata": {},
   "outputs": [],
   "source": [
    "df=pd.DataFrame(flat_data)\n",
    "df['target']=target\n",
    "df.shape"
   ]
  },
  {
   "cell_type": "code",
   "execution_count": null,
   "id": "dc5e6cca",
   "metadata": {},
   "outputs": [],
   "source": [
    "df"
   ]
  },
  {
   "cell_type": "code",
   "execution_count": null,
   "id": "06c5fdab",
   "metadata": {},
   "outputs": [],
   "source": [
    "df=df.sample(frac=1)\n",
    "df"
   ]
  },
  {
   "cell_type": "code",
   "execution_count": null,
   "id": "2d57808c",
   "metadata": {},
   "outputs": [],
   "source": [
    "x=df.drop('target',axis=1)\n",
    "y=df['target']\n"
   ]
  }
 ],
 "metadata": {
  "kernelspec": {
   "display_name": "Python 3 (ipykernel)",
   "language": "python",
   "name": "python3"
  },
  "language_info": {
   "codemirror_mode": {
    "name": "ipython",
    "version": 3
   },
   "file_extension": ".py",
   "mimetype": "text/x-python",
   "name": "python",
   "nbconvert_exporter": "python",
   "pygments_lexer": "ipython3",
   "version": "3.11.4"
  }
 },
 "nbformat": 4,
 "nbformat_minor": 5
}
