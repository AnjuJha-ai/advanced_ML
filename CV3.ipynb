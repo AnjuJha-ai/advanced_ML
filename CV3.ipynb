{
 "cells": [
  {
   "cell_type": "code",
   "execution_count": null,
   "id": "c6caff31",
   "metadata": {},
   "outputs": [],
   "source": [
    "import numpy as np\n",
    "import matplotlib.pyplot as plt\n",
    "import cv2\n",
    "from cv2 import resize\n",
    "\n",
    "### Gray-level & Intencity Slicing\n",
    "\n",
    "img = cv2.imread(\"ram.png\", 0)\n",
    "img=cv2.resize(img,(500,500))\n",
    "row, column= img.shape\n",
    "img1 = np.zeros((row,column),dtype = 'uint8')\n",
    "min_range = 100\n",
    "max_range = 200\n",
    "for i in range(row):\n",
    "    for j in range(column):\n",
    "        if img[i,j]>min_range and img[i,j]<max_range: \n",
    "            img1[i,j] = 255\n",
    "        else: \n",
    "            img1[i,j] = img[i-1,j-1] \n",
    "cv2.imshow('Original.jpg', img)\n",
    "cv2.imshow('slicedimage.jpg', img1)\n",
    "cv2.waitKey(0)\n",
    "cv2.destroyAllWindows()\n"
   ]
  },
  {
   "cell_type": "code",
   "execution_count": null,
   "id": "5d61d69b",
   "metadata": {},
   "outputs": [],
   "source": [
    "### Bit-plain Slicing\n",
    "\n",
    "img=cv2.imread(\"ram.png\", 0)\n",
    "img=cv2.resize(img,(300,300))\n",
    "h,w=img.shape[:2]\n",
    "bin=[]\n",
    "for i in range(h):\n",
    "    for j in range(w):\n",
    "        bin.append(np.binary_repr(img[i][j],width=8))\n",
    "eight=(np.array([int(i[0]) for i in bin],dtype=np.uint8)*128).reshape(img.shape[0],img.shape[1])\n",
    "seven=(np.array([int(i[1]) for i in bin],dtype=np.uint8)* 64).reshape(img.shape[0],img.shape[1])\n",
    "six  =(np.array([int(i[2]) for i in bin],dtype=np.uint8)* 32).reshape(img.shape[0],img.shape[1])\n",
    "five =(np.array([int(i[3]) for i in bin],dtype=np.uint8)* 16).reshape(img.shape[0],img.shape[1])\n",
    "four =(np.array([int(i[4]) for i in bin],dtype=np.uint8)*  8).reshape(img.shape[0],img.shape[1])\n",
    "three=(np.array([int(i[5]) for i in bin],dtype=np.uint8)*  4).reshape(img.shape[0],img.shape[1])\n",
    "two  =(np.array([int(i[6]) for i in bin],dtype=np.uint8)*  2).reshape(img.shape[0],img.shape[1])\n",
    "one  =(np.array([int(i[7]) for i in bin],dtype=np.uint8)*  1).reshape(img.shape[0],img.shape[1])\n",
    "\n",
    "upper=cv2.hconcat([eight,seven,six,five])\n",
    "lower=cv2.hconcat([four,three,two,one])\n",
    "\n",
    "full=cv2.vconcat([upper,lower])\n",
    "\n",
    "cv2.imshow('Bit plain sliced',full)\n",
    "cv2.waitKey(0)\n",
    "cv2.destroyAllWindows()\n"
   ]
  },
  {
   "cell_type": "code",
   "execution_count": null,
   "id": "f679e881",
   "metadata": {},
   "outputs": [],
   "source": [
    "### Boxplot Slicing\n",
    "\n",
    "img=cv2.imread(\"ram.png\",0)\n",
    "img=cv2.resize(img,(1000,1000))\n",
    "h,w=img.shape\n",
    "for i in range(h):\n",
    "    for j in range(w):\n",
    "        if i<=500 and j<=500:\n",
    "            if img[i,j]<100:\n",
    "               img[i,j]=40\n",
    "        if i<=500 and j>=500:\n",
    "            if img[i,j]<100:\n",
    "               img[i,j]=60\n",
    "        if i>=500 and j<=500:\n",
    "            if img[i,j]<100:\n",
    "               img[i,j]=80\n",
    "        if i>=500 and j>=500:\n",
    "            if img[i,j]<100:\n",
    "               img[i,j]=100\n",
    "                \n",
    "plt.imshow(img,'gray')\n",
    "plt.show()\n"
   ]
  },
  {
   "cell_type": "code",
   "execution_count": null,
   "id": "2be17ba7",
   "metadata": {},
   "outputs": [],
   "source": [
    "### Histogram Equalizer\n",
    "\n",
    "img=cv2.imread(\"ram.png\", 0)\n",
    "img=cv2.resize(img,(500,500))\n",
    "hist_eq_img = cv2.equalizeHist(img)\n",
    "cv2.imshow('Histogram Equalized Image', hist_eq_img)\n",
    "\n",
    "cv2.waitKey(0)\n",
    "cv2.destroyAllWindows()\n"
   ]
  },
  {
   "cell_type": "code",
   "execution_count": null,
   "id": "831f1523",
   "metadata": {},
   "outputs": [],
   "source": []
  }
 ],
 "metadata": {
  "kernelspec": {
   "display_name": "Python 3 (ipykernel)",
   "language": "python",
   "name": "python3"
  },
  "language_info": {
   "codemirror_mode": {
    "name": "ipython",
    "version": 3
   },
   "file_extension": ".py",
   "mimetype": "text/x-python",
   "name": "python",
   "nbconvert_exporter": "python",
   "pygments_lexer": "ipython3",
   "version": "3.11.4"
  }
 },
 "nbformat": 4,
 "nbformat_minor": 5
}
