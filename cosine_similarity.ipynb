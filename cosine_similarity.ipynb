{
 "cells": [
  {
   "cell_type": "code",
   "execution_count": 1,
   "id": "bd521744",
   "metadata": {},
   "outputs": [],
   "source": [
    "import numpy as np\n",
    "import pandas as pd"
   ]
  },
  {
   "cell_type": "code",
   "execution_count": 2,
   "id": "ecbb8baf",
   "metadata": {},
   "outputs": [
    {
     "name": "stdout",
     "output_type": "stream",
     "text": [
      "6\n",
      "2\n"
     ]
    }
   ],
   "source": [
    "a = [\"hello\",\"my\",\"name\",\"is\",\"anju\",\"jha\"]\n",
    "b = [\"my\",\" name is ok\"]\n",
    "print(len(a))\n",
    "print(len(b))"
   ]
  },
  {
   "cell_type": "code",
   "execution_count": 3,
   "id": "41c23a17",
   "metadata": {},
   "outputs": [
    {
     "name": "stdout",
     "output_type": "stream",
     "text": [
      "{'my', 'anju', 'is', 'hello', 'jha', 'name'}\n"
     ]
    }
   ],
   "source": [
    "g=set(a)\n",
    "h=set(b)\n",
    "d=g or h\n",
    "print(d)"
   ]
  },
  {
   "cell_type": "code",
   "execution_count": 4,
   "id": "ac7d6959",
   "metadata": {},
   "outputs": [
    {
     "name": "stdout",
     "output_type": "stream",
     "text": [
      "A: [1, 1, 1, 1, 1, 1]\n",
      "B: [0, 1, 1, 1, 1, 1]\n"
     ]
    }
   ],
   "source": [
    "A=[]\n",
    "B=[]\n",
    "for i in d:\n",
    "    count=0\n",
    "    if i in g:\n",
    "        count+=1\n",
    "    A.append(count)\n",
    "for i in d:\n",
    "    count=0\n",
    "    if i not in h:\n",
    "        count+=1\n",
    "    B.append(count)\n",
    "print('A:',A)\n",
    "print('B:',B)\n",
    "        "
   ]
  },
  {
   "cell_type": "code",
   "execution_count": 5,
   "id": "78e6fecc",
   "metadata": {},
   "outputs": [
    {
     "name": "stdout",
     "output_type": "stream",
     "text": [
      "[0, 1, 1, 1, 1, 1]\n"
     ]
    }
   ],
   "source": [
    "result=[i*j for i,j in zip(A,B)]\n",
    "print(result)"
   ]
  },
  {
   "cell_type": "code",
   "execution_count": 6,
   "id": "b8bf60b6",
   "metadata": {},
   "outputs": [
    {
     "name": "stdout",
     "output_type": "stream",
     "text": [
      "5\n",
      "num: 5\n"
     ]
    }
   ],
   "source": [
    "AB=sum(result)\n",
    "print(AB)\n",
    "numerator=print('num:',AB)"
   ]
  },
  {
   "cell_type": "code",
   "execution_count": 7,
   "id": "656117f0",
   "metadata": {},
   "outputs": [
    {
     "name": "stdout",
     "output_type": "stream",
     "text": [
      "deno: 5.477225575051661\n"
     ]
    }
   ],
   "source": [
    "A=np.array(A)\n",
    "B=np.array(B)\n",
    "a=np.sqrt(sum(A**2))\n",
    "b=np.sqrt(sum(B**2))\n",
    "denominator=print('deno:',a*b)"
   ]
  },
  {
   "cell_type": "code",
   "execution_count": 16,
   "id": "1dc11120",
   "metadata": {},
   "outputs": [
    {
     "name": "stdout",
     "output_type": "stream",
     "text": [
      "cos_simi: 0.8333333333333335\n"
     ]
    }
   ],
   "source": [
    "cos=AB/(a*b)\n",
    "print('cos_simi:',cos)"
   ]
  },
  {
   "cell_type": "code",
   "execution_count": 8,
   "id": "bfd38f71",
   "metadata": {},
   "outputs": [],
   "source": [
    "S1=['i','am','a','student','not','a','robot']\n",
    "S2=['robot','are','machines','made','by','humans']\n"
   ]
  },
  {
   "cell_type": "code",
   "execution_count": 9,
   "id": "86651740",
   "metadata": {},
   "outputs": [
    {
     "name": "stdout",
     "output_type": "stream",
     "text": [
      "union: {'student', 'not', 'i', 'am', 'robot', 'a'}\n"
     ]
    }
   ],
   "source": [
    "a=set(S1)\n",
    "b=set(S2)\n",
    "u=(a)or (b)\n",
    "\n",
    "print('union:',u)\n"
   ]
  },
  {
   "cell_type": "code",
   "execution_count": 10,
   "id": "b9fabfb4",
   "metadata": {},
   "outputs": [
    {
     "name": "stdout",
     "output_type": "stream",
     "text": [
      "A: [1, 1, 1, 1, 1, 1]\n",
      "B: [1, 1, 1, 1, 1, 1]\n"
     ]
    }
   ],
   "source": [
    "A=[]\n",
    "B=[]\n",
    "for i in u:\n",
    "    count=0\n",
    "    if i in a:\n",
    "        count+=1\n",
    "        A.append(count)\n",
    "print('A:',A)\n",
    "    \n",
    "for i in b:\n",
    "    count=0\n",
    "    if i in b:\n",
    "        count+=1\n",
    "        B.append(count)\n",
    "print('B:',B)\n",
    "        \n",
    "        \n",
    "        \n",
    "        "
   ]
  },
  {
   "cell_type": "code",
   "execution_count": 11,
   "id": "48e438ad",
   "metadata": {},
   "outputs": [
    {
     "name": "stdout",
     "output_type": "stream",
     "text": [
      "[1, 1, 1, 1, 1, 1]\n"
     ]
    }
   ],
   "source": [
    "result=[i*j for i,j in zip(A,B)]\n",
    "print(result)"
   ]
  },
  {
   "cell_type": "code",
   "execution_count": 12,
   "id": "d72a3e52",
   "metadata": {},
   "outputs": [
    {
     "name": "stdout",
     "output_type": "stream",
     "text": [
      "numerator: 6\n"
     ]
    }
   ],
   "source": [
    "numerator=print('numerator:',sum(result))"
   ]
  },
  {
   "cell_type": "code",
   "execution_count": 13,
   "id": "973e4421",
   "metadata": {},
   "outputs": [
    {
     "name": "stdout",
     "output_type": "stream",
     "text": [
      "a: 2.449489742783178\n",
      "b: 2.449489742783178\n",
      "Denominator: 5.999999999999999\n"
     ]
    }
   ],
   "source": [
    "A=np.array(A)\n",
    "B=np.array(B)\n",
    "a=np.sqrt(sum(A**2))\n",
    "print('a:',a)\n",
    "b=np.sqrt(sum(B**2))\n",
    "print('b:',b)\n",
    "Denominator=print('Denominator:',a*b)"
   ]
  },
  {
   "cell_type": "code",
   "execution_count": 17,
   "id": "e3d32789",
   "metadata": {},
   "outputs": [
    {
     "name": "stdout",
     "output_type": "stream",
     "text": [
      "cos similarity: 1.0000000000000002\n"
     ]
    }
   ],
   "source": [
    "cos_simi= sum(result) /(a*b) \n",
    "print(\"cos similarity:\",cos_simi)"
   ]
  },
  {
   "cell_type": "code",
   "execution_count": null,
   "id": "b23713f1",
   "metadata": {},
   "outputs": [],
   "source": []
  }
 ],
 "metadata": {
  "kernelspec": {
   "display_name": "Python 3 (ipykernel)",
   "language": "python",
   "name": "python3"
  },
  "language_info": {
   "codemirror_mode": {
    "name": "ipython",
    "version": 3
   },
   "file_extension": ".py",
   "mimetype": "text/x-python",
   "name": "python",
   "nbconvert_exporter": "python",
   "pygments_lexer": "ipython3",
   "version": "3.11.4"
  }
 },
 "nbformat": 4,
 "nbformat_minor": 5
}
