{
 "cells": [
  {
   "cell_type": "code",
   "execution_count": 1,
   "id": "c4c9f46b",
   "metadata": {},
   "outputs": [],
   "source": [
    "import cv2\n",
    "import numpy as np\n",
    "import matplotlib.pyplot as plt"
   ]
  },
  {
   "cell_type": "code",
   "execution_count": 3,
   "id": "69e3181a",
   "metadata": {},
   "outputs": [
    {
     "data": {
      "text/plain": [
       "-1"
      ]
     },
     "execution_count": 3,
     "metadata": {},
     "output_type": "execute_result"
    }
   ],
   "source": [
    "# 4 neighbour and 8 neighbour:\n",
    "\n",
    "# Read an image\n",
    "image = cv2.imread(\"BW.jpg\", cv2.IMREAD_GRAYSCALE)\n",
    "\n",
    "# Define kernels for 4-neighbors and 8-neighbors\n",
    "four_neighbors_kernel = np.array([[0, 1, 0],\n",
    "                                  [1, 0, 1],\n",
    "                                  [0, 1, 0]], dtype=np.uint8)\n",
    "\n",
    "eight_neighbors_kernel = np.array([[1, 1, 1],\n",
    "                                   [1, 0, 1],\n",
    "                                   [1, 1, 1]], dtype=np.uint8)\n",
    "\n",
    "# Apply convolution to find 4-neighbors and 8-neighbors\n",
    "four_neighbors_result = cv2.filter2D(image, 0, four_neighbors_kernel)\n",
    "eight_neighbors_result = cv2.filter2D(image, 0, eight_neighbors_kernel)\n",
    "\n",
    "# Display the results\n",
    "cv2.imshow(\"Original Image\", image)\n",
    "cv2.imshow(\"4-Neighbors\", four_neighbors_result)\n",
    "cv2.imshow(\"8-Neighbors\", eight_neighbors_result)\n",
    "cv2.waitKey(0)"
   ]
  },
  {
   "cell_type": "code",
   "execution_count": null,
   "id": "2b0c10c8",
   "metadata": {},
   "outputs": [],
   "source": []
  }
 ],
 "metadata": {
  "kernelspec": {
   "display_name": "Python 3 (ipykernel)",
   "language": "python",
   "name": "python3"
  },
  "language_info": {
   "codemirror_mode": {
    "name": "ipython",
    "version": 3
   },
   "file_extension": ".py",
   "mimetype": "text/x-python",
   "name": "python",
   "nbconvert_exporter": "python",
   "pygments_lexer": "ipython3",
   "version": "3.11.4"
  }
 },
 "nbformat": 4,
 "nbformat_minor": 5
}
