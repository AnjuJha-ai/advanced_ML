{
 "cells": [
  {
   "cell_type": "code",
   "execution_count": null,
   "id": "ee662260",
   "metadata": {},
   "outputs": [],
   "source": [
    "# Que: WAP to implement KNN from scratch as well as using library and find optimal value of K using Elbow method. Experiment using different types of distance measures.\n"
   ]
  },
  {
   "cell_type": "code",
   "execution_count": 1,
   "id": "adf64c75",
   "metadata": {},
   "outputs": [],
   "source": [
    "import numpy as np\n",
    "import pandas as pd\n",
    "import matplotlib.pyplot as plt\n",
    "from sklearn.neighbors import KNeighborsClassifier\n",
    "from sklearn.metrics import classification_report,confusion_matrix,accuracy_score\n",
    "from sklearn import datasets"
   ]
  },
  {
   "cell_type": "code",
   "execution_count": 2,
   "id": "bc4b97fa",
   "metadata": {},
   "outputs": [],
   "source": [
    "x,y=datasets.make_blobs(n_samples=100,n_features=3,random_state=42)"
   ]
  },
  {
   "cell_type": "code",
   "execution_count": 3,
   "id": "ec39b3f8",
   "metadata": {},
   "outputs": [
    {
     "data": {
      "text/html": [
       "<div>\n",
       "<style scoped>\n",
       "    .dataframe tbody tr th:only-of-type {\n",
       "        vertical-align: middle;\n",
       "    }\n",
       "\n",
       "    .dataframe tbody tr th {\n",
       "        vertical-align: top;\n",
       "    }\n",
       "\n",
       "    .dataframe thead th {\n",
       "        text-align: right;\n",
       "    }\n",
       "</style>\n",
       "<table border=\"1\" class=\"dataframe\">\n",
       "  <thead>\n",
       "    <tr style=\"text-align: right;\">\n",
       "      <th></th>\n",
       "      <th>x0</th>\n",
       "      <th>x1</th>\n",
       "      <th>x2</th>\n",
       "      <th>Target</th>\n",
       "    </tr>\n",
       "  </thead>\n",
       "  <tbody>\n",
       "    <tr>\n",
       "      <th>0</th>\n",
       "      <td>-2.936066</td>\n",
       "      <td>9.515734</td>\n",
       "      <td>5.798065</td>\n",
       "      <td>0</td>\n",
       "    </tr>\n",
       "    <tr>\n",
       "      <th>1</th>\n",
       "      <td>-10.339096</td>\n",
       "      <td>7.488546</td>\n",
       "      <td>1.166371</td>\n",
       "      <td>2</td>\n",
       "    </tr>\n",
       "    <tr>\n",
       "      <th>2</th>\n",
       "      <td>-8.461031</td>\n",
       "      <td>8.974874</td>\n",
       "      <td>0.695468</td>\n",
       "      <td>2</td>\n",
       "    </tr>\n",
       "    <tr>\n",
       "      <th>3</th>\n",
       "      <td>-1.927075</td>\n",
       "      <td>9.902035</td>\n",
       "      <td>5.534211</td>\n",
       "      <td>0</td>\n",
       "    </tr>\n",
       "    <tr>\n",
       "      <th>4</th>\n",
       "      <td>2.204123</td>\n",
       "      <td>-7.688564</td>\n",
       "      <td>-5.822686</td>\n",
       "      <td>1</td>\n",
       "    </tr>\n",
       "  </tbody>\n",
       "</table>\n",
       "</div>"
      ],
      "text/plain": [
       "          x0        x1        x2  Target\n",
       "0  -2.936066  9.515734  5.798065       0\n",
       "1 -10.339096  7.488546  1.166371       2\n",
       "2  -8.461031  8.974874  0.695468       2\n",
       "3  -1.927075  9.902035  5.534211       0\n",
       "4   2.204123 -7.688564 -5.822686       1"
      ]
     },
     "execution_count": 3,
     "metadata": {},
     "output_type": "execute_result"
    }
   ],
   "source": [
    "df=pd.DataFrame(x,columns=[\"x0\",\"x1\",\"x2\"])\n",
    "data=df.copy()\n",
    "data[\"Target\"]=y\n",
    "data.head()"
   ]
  },
  {
   "cell_type": "code",
   "execution_count": 12,
   "id": "7436175c",
   "metadata": {},
   "outputs": [
    {
     "name": "stdout",
     "output_type": "stream",
     "text": [
      "[-10.33909615   7.48854571   1.16637132]\n"
     ]
    }
   ],
   "source": [
    "print(x[1])"
   ]
  },
  {
   "cell_type": "code",
   "execution_count": 10,
   "id": "f032e8d6",
   "metadata": {},
   "outputs": [
    {
     "data": {
      "text/html": [
       "<div>\n",
       "<style scoped>\n",
       "    .dataframe tbody tr th:only-of-type {\n",
       "        vertical-align: middle;\n",
       "    }\n",
       "\n",
       "    .dataframe tbody tr th {\n",
       "        vertical-align: top;\n",
       "    }\n",
       "\n",
       "    .dataframe thead th {\n",
       "        text-align: right;\n",
       "    }\n",
       "</style>\n",
       "<table border=\"1\" class=\"dataframe\">\n",
       "  <thead>\n",
       "    <tr style=\"text-align: right;\">\n",
       "      <th></th>\n",
       "      <th>x0</th>\n",
       "      <th>x1</th>\n",
       "      <th>x2</th>\n",
       "      <th>Target</th>\n",
       "      <th>Distance</th>\n",
       "    </tr>\n",
       "  </thead>\n",
       "  <tbody>\n",
       "    <tr>\n",
       "      <th>17</th>\n",
       "      <td>-1.692753</td>\n",
       "      <td>7.490410</td>\n",
       "      <td>4.211833</td>\n",
       "      <td>0</td>\n",
       "      <td>6.220322</td>\n",
       "    </tr>\n",
       "    <tr>\n",
       "      <th>87</th>\n",
       "      <td>-1.627437</td>\n",
       "      <td>8.005201</td>\n",
       "      <td>3.056585</td>\n",
       "      <td>0</td>\n",
       "      <td>6.271101</td>\n",
       "    </tr>\n",
       "    <tr>\n",
       "      <th>97</th>\n",
       "      <td>-2.801150</td>\n",
       "      <td>6.359110</td>\n",
       "      <td>4.985397</td>\n",
       "      <td>0</td>\n",
       "      <td>6.576265</td>\n",
       "    </tr>\n",
       "    <tr>\n",
       "      <th>91</th>\n",
       "      <td>-1.735497</td>\n",
       "      <td>8.476144</td>\n",
       "      <td>3.293201</td>\n",
       "      <td>0</td>\n",
       "      <td>6.753848</td>\n",
       "    </tr>\n",
       "    <tr>\n",
       "      <th>13</th>\n",
       "      <td>-2.490197</td>\n",
       "      <td>8.479870</td>\n",
       "      <td>3.144825</td>\n",
       "      <td>0</td>\n",
       "      <td>7.176452</td>\n",
       "    </tr>\n",
       "  </tbody>\n",
       "</table>\n",
       "</div>"
      ],
      "text/plain": [
       "          x0        x1        x2  Target  Distance\n",
       "17 -1.692753  7.490410  4.211833       0  6.220322\n",
       "87 -1.627437  8.005201  3.056585       0  6.271101\n",
       "97 -2.801150  6.359110  4.985397       0  6.576265\n",
       "91 -1.735497  8.476144  3.293201       0  6.753848\n",
       "13 -2.490197  8.479870  3.144825       0  7.176452"
      ]
     },
     "execution_count": 10,
     "metadata": {},
     "output_type": "execute_result"
    }
   ],
   "source": [
    "def knn(point,data):\n",
    "    distance=[]\n",
    "    for i in data:\n",
    "        sumn=0\n",
    "        for j in range(len(data[0])):\n",
    "            sumn+=(i[j]-point[j])**2\n",
    "        distance.append(np.sqrt(sumn))\n",
    "    return distance\n",
    "pt=(2,3,2)\n",
    "dis=knn(pt,x)\n",
    "data1=data.copy()\n",
    "data1[\"Distance\"]=dis\n",
    "data1.sort_values('Distance',inplace=True)\n",
    "data1.head()"
   ]
  },
  {
   "cell_type": "code",
   "execution_count": 13,
   "id": "37ea3215",
   "metadata": {},
   "outputs": [],
   "source": [
    "def knn(point, data):\n",
    "    distance = []\n",
    "    for i in data:\n",
    "        print(\"i\",i)\n",
    "        sumn = 0\n",
    "        for j in range(len(i)):\n",
    "            sumn += (i[j] - point[j]) ** 2\n",
    "        distance.append(np.sqrt(sumn))\n",
    "    return distance"
   ]
  },
  {
   "cell_type": "code",
   "execution_count": 14,
   "id": "4e78123c",
   "metadata": {},
   "outputs": [
    {
     "name": "stdout",
     "output_type": "stream",
     "text": [
      "i [-2.93606642  9.51573446  5.79806549]\n"
     ]
    },
    {
     "ename": "IndexError",
     "evalue": "tuple index out of range",
     "output_type": "error",
     "traceback": [
      "\u001b[1;31m---------------------------------------------------------------------------\u001b[0m",
      "\u001b[1;31mIndexError\u001b[0m                                Traceback (most recent call last)",
      "Cell \u001b[1;32mIn[14], line 1\u001b[0m\n\u001b[1;32m----> 1\u001b[0m dis\u001b[38;5;241m=\u001b[39mknn((\u001b[38;5;241m0\u001b[39m,\u001b[38;5;241m0\u001b[39m),x)\n\u001b[0;32m      2\u001b[0m data1\u001b[38;5;241m=\u001b[39mdata\u001b[38;5;241m.\u001b[39mcopy()\n\u001b[0;32m      3\u001b[0m data1[\u001b[38;5;124m\"\u001b[39m\u001b[38;5;124mDistance\u001b[39m\u001b[38;5;124m\"\u001b[39m]\u001b[38;5;241m=\u001b[39mdis\n",
      "Cell \u001b[1;32mIn[13], line 7\u001b[0m, in \u001b[0;36mknn\u001b[1;34m(point, data)\u001b[0m\n\u001b[0;32m      5\u001b[0m     sumn \u001b[38;5;241m=\u001b[39m \u001b[38;5;241m0\u001b[39m\n\u001b[0;32m      6\u001b[0m     \u001b[38;5;28;01mfor\u001b[39;00m j \u001b[38;5;129;01min\u001b[39;00m \u001b[38;5;28mrange\u001b[39m(\u001b[38;5;28mlen\u001b[39m(i)):\n\u001b[1;32m----> 7\u001b[0m         sumn \u001b[38;5;241m+\u001b[39m\u001b[38;5;241m=\u001b[39m (i[j] \u001b[38;5;241m-\u001b[39m point[j]) \u001b[38;5;241m*\u001b[39m\u001b[38;5;241m*\u001b[39m \u001b[38;5;241m2\u001b[39m\n\u001b[0;32m      8\u001b[0m     distance\u001b[38;5;241m.\u001b[39mappend(np\u001b[38;5;241m.\u001b[39msqrt(sumn))\n\u001b[0;32m      9\u001b[0m \u001b[38;5;28;01mreturn\u001b[39;00m distance\n",
      "\u001b[1;31mIndexError\u001b[0m: tuple index out of range"
     ]
    }
   ],
   "source": [
    "dis=knn((0,0),x)\n",
    "data1=data.copy()\n",
    "data1[\"Distance\"]=dis\n",
    "data1.sort_values('Distance',inplace=True)\n",
    "data1.head()"
   ]
  },
  {
   "cell_type": "code",
   "execution_count": null,
   "id": "f52d85bd",
   "metadata": {},
   "outputs": [],
   "source": []
  }
 ],
 "metadata": {
  "kernelspec": {
   "display_name": "Python 3 (ipykernel)",
   "language": "python",
   "name": "python3"
  },
  "language_info": {
   "codemirror_mode": {
    "name": "ipython",
    "version": 3
   },
   "file_extension": ".py",
   "mimetype": "text/x-python",
   "name": "python",
   "nbconvert_exporter": "python",
   "pygments_lexer": "ipython3",
   "version": "3.11.4"
  }
 },
 "nbformat": 4,
 "nbformat_minor": 5
}
