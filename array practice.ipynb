{
 "cells": [
  {
   "cell_type": "code",
   "execution_count": 1,
   "id": "59fdb3ce",
   "metadata": {},
   "outputs": [
    {
     "name": "stdout",
     "output_type": "stream",
     "text": [
      "toyota\n"
     ]
    }
   ],
   "source": [
    "cars=['toyota','kia','maruti','tata']\n",
    "print(cars[0])"
   ]
  },
  {
   "cell_type": "code",
   "execution_count": 2,
   "id": "2770676d",
   "metadata": {},
   "outputs": [
    {
     "name": "stdout",
     "output_type": "stream",
     "text": [
      "4\n"
     ]
    }
   ],
   "source": [
    "print(len(cars))"
   ]
  },
  {
   "cell_type": "code",
   "execution_count": 3,
   "id": "5b470366",
   "metadata": {},
   "outputs": [
    {
     "name": "stdout",
     "output_type": "stream",
     "text": [
      "toyota\n",
      "kia\n",
      "maruti\n",
      "tata\n"
     ]
    }
   ],
   "source": [
    "for x in cars:\n",
    "    print(x)"
   ]
  },
  {
   "cell_type": "code",
   "execution_count": 4,
   "id": "0dde0fcb",
   "metadata": {},
   "outputs": [],
   "source": [
    "cars.append('honda')"
   ]
  },
  {
   "cell_type": "code",
   "execution_count": 5,
   "id": "d15e554d",
   "metadata": {},
   "outputs": [
    {
     "name": "stdout",
     "output_type": "stream",
     "text": [
      "toyota\n",
      "kia\n",
      "maruti\n",
      "tata\n",
      "honda\n"
     ]
    }
   ],
   "source": [
    "for x in cars:\n",
    "    print(x)"
   ]
  },
  {
   "cell_type": "code",
   "execution_count": 11,
   "id": "efe400ae",
   "metadata": {},
   "outputs": [
    {
     "name": "stdout",
     "output_type": "stream",
     "text": [
      "maruti\n",
      "tata\n",
      "honda\n"
     ]
    }
   ],
   "source": [
    "cars.remove('toyota')\n",
    "for x in cars:\n",
    "    print(x)"
   ]
  },
  {
   "cell_type": "code",
   "execution_count": 12,
   "id": "94808e53",
   "metadata": {},
   "outputs": [
    {
     "data": {
      "text/plain": [
       "'tata'"
      ]
     },
     "execution_count": 12,
     "metadata": {},
     "output_type": "execute_result"
    }
   ],
   "source": [
    "cars.pop(1)"
   ]
  },
  {
   "cell_type": "code",
   "execution_count": 13,
   "id": "ebc0b072",
   "metadata": {},
   "outputs": [
    {
     "data": {
      "text/plain": [
       "'maruti'"
      ]
     },
     "execution_count": 13,
     "metadata": {},
     "output_type": "execute_result"
    }
   ],
   "source": [
    "cars.pop(0)"
   ]
  },
  {
   "cell_type": "code",
   "execution_count": 14,
   "id": "a259b36b",
   "metadata": {},
   "outputs": [
    {
     "data": {
      "text/plain": [
       "0"
      ]
     },
     "execution_count": 14,
     "metadata": {},
     "output_type": "execute_result"
    }
   ],
   "source": [
    "cars.count('maruti')"
   ]
  },
  {
   "cell_type": "code",
   "execution_count": 15,
   "id": "662f70cd",
   "metadata": {},
   "outputs": [
    {
     "data": {
      "text/plain": [
       "0"
      ]
     },
     "execution_count": 15,
     "metadata": {},
     "output_type": "execute_result"
    }
   ],
   "source": [
    "cars.count('tata')"
   ]
  },
  {
   "cell_type": "code",
   "execution_count": 16,
   "id": "61873100",
   "metadata": {},
   "outputs": [
    {
     "data": {
      "text/plain": [
       "1"
      ]
     },
     "execution_count": 16,
     "metadata": {},
     "output_type": "execute_result"
    }
   ],
   "source": [
    "cars.count('honda')"
   ]
  },
  {
   "cell_type": "code",
   "execution_count": 20,
   "id": "293b2a79",
   "metadata": {},
   "outputs": [
    {
     "name": "stdout",
     "output_type": "stream",
     "text": [
      "['tata', 'maruti', 'kia', 'toyota']\n"
     ]
    }
   ],
   "source": [
    "cars=['toyota','kia','maruti','tata']\n",
    "cars.reverse()\n",
    "print(cars)"
   ]
  },
  {
   "cell_type": "code",
   "execution_count": 22,
   "id": "78d546ca",
   "metadata": {},
   "outputs": [
    {
     "name": "stdout",
     "output_type": "stream",
     "text": [
      "['tata', 'maruti', 'kia', 'toyota']\n"
     ]
    }
   ],
   "source": [
    "x=cars.copy()\n",
    "print(x)"
   ]
  },
  {
   "cell_type": "code",
   "execution_count": 23,
   "id": "dc2c50c8",
   "metadata": {},
   "outputs": [
    {
     "name": "stdout",
     "output_type": "stream",
     "text": [
      "2\n"
     ]
    }
   ],
   "source": [
    "x=cars.index('kia')\n",
    "print(x)\n"
   ]
  },
  {
   "cell_type": "code",
   "execution_count": 25,
   "id": "696cfce9",
   "metadata": {},
   "outputs": [
    {
     "name": "stdout",
     "output_type": "stream",
     "text": [
      "['tata', 'safari', 'safari', 'maruti', 'kia', 'toyota']\n"
     ]
    }
   ],
   "source": [
    "cars.insert(1,'safari')\n",
    "print(cars)"
   ]
  },
  {
   "cell_type": "code",
   "execution_count": 26,
   "id": "3d64ba46",
   "metadata": {},
   "outputs": [],
   "source": [
    "fruits=['orange','banana','mango','cherry']\n",
    "fruits.extend(cars)"
   ]
  },
  {
   "cell_type": "code",
   "execution_count": 27,
   "id": "2d3d1c9c",
   "metadata": {},
   "outputs": [
    {
     "name": "stdout",
     "output_type": "stream",
     "text": [
      "['orange', 'banana', 'mango', 'cherry', 'tata', 'safari', 'safari', 'maruti', 'kia', 'toyota']\n"
     ]
    }
   ],
   "source": [
    "print(fruits)"
   ]
  },
  {
   "cell_type": "code",
   "execution_count": 28,
   "id": "5769b64a",
   "metadata": {},
   "outputs": [],
   "source": [
    "fruits.sort()"
   ]
  },
  {
   "cell_type": "code",
   "execution_count": 29,
   "id": "4c99dbc1",
   "metadata": {},
   "outputs": [
    {
     "name": "stdout",
     "output_type": "stream",
     "text": [
      "['banana', 'cherry', 'kia', 'mango', 'maruti', 'orange', 'safari', 'safari', 'tata', 'toyota']\n"
     ]
    }
   ],
   "source": [
    "print(fruits)"
   ]
  },
  {
   "cell_type": "code",
   "execution_count": null,
   "id": "e6092a5f",
   "metadata": {},
   "outputs": [],
   "source": []
  }
 ],
 "metadata": {
  "kernelspec": {
   "display_name": "Python 3 (ipykernel)",
   "language": "python",
   "name": "python3"
  },
  "language_info": {
   "codemirror_mode": {
    "name": "ipython",
    "version": 3
   },
   "file_extension": ".py",
   "mimetype": "text/x-python",
   "name": "python",
   "nbconvert_exporter": "python",
   "pygments_lexer": "ipython3",
   "version": "3.11.4"
  }
 },
 "nbformat": 4,
 "nbformat_minor": 5
}
