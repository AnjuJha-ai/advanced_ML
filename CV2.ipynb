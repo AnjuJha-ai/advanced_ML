{
 "cells": [
  {
   "cell_type": "code",
   "execution_count": 8,
   "id": "0145665b",
   "metadata": {},
   "outputs": [
    {
     "name": "stdout",
     "output_type": "stream",
     "text": [
      "Enter Height :- 400\n",
      "Enter width :- 400\n",
      "1 for Point in centre\n",
      "2 for point in centre & around its 4 neighbour\n",
      "3 for point in centre & around its 8 neighbour\n",
      "4 for any extra pattern\n",
      "Enter your choice :- 2\n",
      "step size around the neighbour :- 4\n"
     ]
    }
   ],
   "source": [
    "import cv2\n",
    "import numpy as np\n",
    "img=cv2.imread(\"bird.jpg\",1)\n",
    "h=int(input(\"Enter Height :- \"))\n",
    "w=int(input(\"Enter width :- \"))\n",
    "img1=cv2.resize(img,(h,w))\n",
    "while(True):\n",
    "    print(\"1 for Point in centre\")\n",
    "    print(\"2 for point in centre & around its 4 neighbour\")\n",
    "    print(\"3 for point in centre & around its 8 neighbour\")\n",
    "    print(\"4 for any extra pattern\")\n",
    "    choice=int(input(\"Enter your choice :- \"))\n",
    "    if choice==1:\n",
    "        center_x=w//2\n",
    "        center_y=h//2\n",
    "        cv2.circle(img1,(center_x,center_y), 3,(0,0,255),-1)\n",
    "        break\n",
    "    if choice==2:\n",
    "        step=int(input(\"step size around the neighbour :- \"))\n",
    "        center_x=w//2\n",
    "        center_y=h//2\n",
    "        h1=center_x\n",
    "        d1=center_y\n",
    "        cv2.circle(img1,(center_x,center_y), 3,(0,0,255),-1) \n",
    "        cv2.circle(img1,(center_x+step,center_y), 3,(0,0,255),-1)\n",
    "        cv2.circle(img1,(center_x,center_y+step), 3,(0,0,255),-1)\n",
    "        cv2.circle(img1,(center_x-step,center_y), 3,(0,0,255),-1)\n",
    "        cv2.circle(img1,(center_x,center_y-step), 3,(0,0,255),-1)\n",
    "        break\n",
    "    if choice==3:\n",
    "        step=int(input(\"step size around the neighbour :- \"))\n",
    "        center_x=w//2\n",
    "        center_y=h//2\n",
    "        h1=center_x\n",
    "        d1=center_y\n",
    "        cv2.circle(img1,(center_x,center_y), 3,(0,0,255),-1) \n",
    "        cv2.circle(img1,(center_x+step,center_y), 3,(0,0,255),-1)\n",
    "        cv2.circle(img1,(center_x,center_y+step), 3,(0,0,255),-1)\n",
    "        cv2.circle(img1,(center_x-step,center_y), 3,(0,0,255),-1)\n",
    "        cv2.circle(img1,(center_x,center_y-step), 3,(0,0,255),-1)\n",
    "        cv2.circle(img1,(center_x+step,center_y-step), 3,(0,0,255),-1)\n",
    "        cv2.circle(img1,(center_x-step,center_y+step), 3,(0,0,255),-1)\n",
    "        cv2.circle(img1,(center_x-step,center_y-step), 3,(0,0,255),-1)\n",
    "        cv2.circle(img1,(center_x+step,center_y+step), 3,(0,0,255),-1)\n",
    "        break\n",
    "    if choice==4:\n",
    "        step=int(input(\"Step size :- \"))\n",
    "        rang=int(input(\"Enter range :- \"))\n",
    "        for i in range(rang):\n",
    "            x=0\n",
    "            y=0\n",
    "            for y in range(step):\n",
    "                for i in range(w):\n",
    "                    cv2.circle(img1,(x,y), radius=5,color=(0,0,255),thickness=-1) \n",
    "                    x=x+step\n",
    "                    y=y+step\n",
    "        break\n",
    "cv2.imshow(\"Resized image\",img1)\n",
    "cv2.waitKey(0)\n",
    "cv2.destroyAllWindows()\n"
   ]
  },
  {
   "cell_type": "code",
   "execution_count": 2,
   "id": "8e81bd45",
   "metadata": {},
   "outputs": [
    {
     "name": "stdout",
     "output_type": "stream",
     "text": [
      "1000 1000\n",
      "Enter the cordinates of the point x1 = 200\n",
      "Enter the cordinates of the point y2 = 500\n",
      "Enter the cordinates of the point x1 = 500\n",
      "Enter the cordinates of the point y2 = 900\n",
      "Distance between the given points are  500.0 .\n",
      "Area of the given triangle are  60000.0 pixels.\n"
     ]
    }
   ],
   "source": [
    "import cv2\n",
    "import numpy as np\n",
    "import matplotlib.pyplot as plt\n",
    "import pandas as pd\n",
    "\n",
    "data=cv2.imread(\"bird.jpg\",1)\n",
    "data=cv2.resize(data,(1000,1000))\n",
    "h,w =data.shape[:2]\n",
    "print(h,w)\n",
    "X1=int(input(\"Enter the cordinates of the point x1 = \"))\n",
    "Y1=int(input(\"Enter the cordinates of the point y2 = \"))\n",
    "X2=int(input(\"Enter the cordinates of the point x1 = \"))\n",
    "Y2=int(input(\"Enter the cordinates of the point y2 = \"))\n",
    "Y3=(X2-X1)\n",
    "X3=(Y2-Y1)\n",
    "cv2.circle(data, (X1,Y1), 3, (255,255,255), -1)\n",
    "cv2.circle(data, (X2,Y2), 3, (255,255,0), -1)\n",
    "# cv2.circle(data, (X1,Y2), 3, (255,0,0), -1)\n",
    "d=(((X2-X1)**2)+((Y2-Y1)**2))**0.5\n",
    "area = 0.5*X3*Y3\n",
    "print(\"Distance between the given points are \",d,\".\")\n",
    "print(\"Area of the given triangle are \",area,\"pixels.\")\n",
    "cv2.imshow(\"img\",data)\n",
    "cv2.waitKey(0)\n",
    "cv2.destroyAllWindows()"
   ]
  },
  {
   "cell_type": "code",
   "execution_count": 3,
   "id": "4716907e",
   "metadata": {},
   "outputs": [
    {
     "name": "stdout",
     "output_type": "stream",
     "text": [
      "1000 1000\n",
      "Enter the cordinates of the point x1 = 100\n",
      "Enter the cordinates of the point y2 = 200\n",
      "Enter the cordinates of the point x1 = 300\n",
      "Enter the cordinates of the point y2 = 400\n",
      "4 Neighour 400.0\n"
     ]
    }
   ],
   "source": [
    "import cv2\n",
    "import numpy as np\n",
    "import matplotlib.pyplot as plt\n",
    "import pandas as pd\n",
    "\n",
    "data=cv2.imread(\"bird.jpg\",1)\n",
    "data=cv2.resize(data,(1000,1000))\n",
    "h,w =data.shape[:2]\n",
    "print(h,w)\n",
    "X1=int(input(\"Enter the cordinates of the point x1 = \"))\n",
    "Y1=int(input(\"Enter the cordinates of the point y2 = \"))\n",
    "X2=int(input(\"Enter the cordinates of the point x1 = \"))\n",
    "Y2=int(input(\"Enter the cordinates of the point y2 = \"))\n",
    "x3=((X1-X2)**2)**0.5\n",
    "y3=((Y1-Y2)**2)**0.5\n",
    "d=x3+y3\n",
    "print(\"4 Neighour\",d)"
   ]
  },
  {
   "cell_type": "code",
   "execution_count": 4,
   "id": "c3428d94",
   "metadata": {},
   "outputs": [
    {
     "name": "stdout",
     "output_type": "stream",
     "text": [
      "1000 1000\n",
      "Enter the cordinates of the point x1 = 100\n",
      "Enter the cordinates of the point y2 = 200\n",
      "Enter the cordinates of the point x1 = 300\n",
      "Enter the cordinates of the point y2 = 400\n",
      "8 Neighour 200.0\n"
     ]
    }
   ],
   "source": [
    "import cv2\n",
    "import numpy as np\n",
    "import matplotlib.pyplot as plt\n",
    "import pandas as pd\n",
    "\n",
    "data=cv2.imread(\"bird.jpg\",1)\n",
    "data=cv2.resize(data,(1000,1000))\n",
    "h,w =data.shape[:2]\n",
    "print(h,w)\n",
    "X1=int(input(\"Enter the cordinates of the point x1 = \"))\n",
    "Y1=int(input(\"Enter the cordinates of the point y2 = \"))\n",
    "X2=int(input(\"Enter the cordinates of the point x1 = \"))\n",
    "Y2=int(input(\"Enter the cordinates of the point y2 = \"))\n",
    "x3=((X1-X2)**2)**0.5\n",
    "y3=((Y1-Y2)**2)**0.5\n",
    "if x3>y3:\n",
    "    d=x3\n",
    "else:\n",
    "    d=y3\n",
    "print(\"8 Neighour\",d)"
   ]
  },
  {
   "cell_type": "code",
   "execution_count": null,
   "id": "cc321a0e",
   "metadata": {},
   "outputs": [],
   "source": []
  }
 ],
 "metadata": {
  "kernelspec": {
   "display_name": "Python 3 (ipykernel)",
   "language": "python",
   "name": "python3"
  },
  "language_info": {
   "codemirror_mode": {
    "name": "ipython",
    "version": 3
   },
   "file_extension": ".py",
   "mimetype": "text/x-python",
   "name": "python",
   "nbconvert_exporter": "python",
   "pygments_lexer": "ipython3",
   "version": "3.11.4"
  }
 },
 "nbformat": 4,
 "nbformat_minor": 5
}
